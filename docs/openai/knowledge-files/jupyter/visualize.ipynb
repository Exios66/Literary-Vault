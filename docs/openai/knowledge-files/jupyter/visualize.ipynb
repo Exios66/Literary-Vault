Certainly! Let’s enhance your Jupyter Notebook to actively capture the ongoing conversation between the user and the chatbot (ChatGPT) and then allow the user to execute visualizations based on the captured conversation. This enhanced notebook will:
	1.	Provide an interactive chat interface within the notebook.
	2.	Store the conversation dynamically as it happens.
	3.	Allow the user to execute visualization cells after the conversation is complete.

To achieve this, we’ll use ipywidgets for the interactive components and integrate OpenAI’s API to handle the chatbot responses.

Prerequisites

	1.	OpenAI API Key: To interact with ChatGPT, you’ll need an API key from OpenAI. You can obtain it from OpenAI’s website.
	2.	Install Required Libraries: Ensure that all necessary libraries are installed. You can install any missing libraries using pip.

Enhanced Jupyter Notebook Structure

Below is the enhanced Jupyter Notebook structured with Markdown and Code cells. You can copy this content into a .ipynb file or directly into your Jupyter environment.

# ChatGPT Conversation Analyzer

This enhanced notebook allows you to **interactively chat** with ChatGPT, **capture the conversation**, and **visualize** various aspects of the dialogue. The notebook performs the following tasks:

1. **Interactive Chat Interface**: Engage in a conversation with ChatGPT directly within the notebook.
2. **Store Conversation**: Automatically save each exchange between the user and the assistant.
3. **Generate Visualizations**: After the conversation, create word clouds, plot message lengths, and analyze word frequencies.

---

## 1. Import Necessary Libraries and Set Up Environment

First, we need to import all the required libraries and set up the environment for the chat interface.

# Import necessary libraries
import os
import re
import time
from datetime import datetime
import matplotlib.pyplot as plt
from wordcloud import WordCloud
from collections import Counter
import pandas as pd
import markdownify
from IPython.display import display, FileLink, clear_output
import ipywidgets as widgets
import openai

# Set matplotlib inline for Jupyter
%matplotlib inline

# Initialize conversation storage
conversation = []

# Function to install missing libraries
def install(package):
    import sys
    !{sys.executable} -m pip install {package}
    
# Uncomment and run the following lines if any library is missing
# install('matplotlib')
# install('wordcloud')
# install('pandas')
# install('markdownify')
# install('ipywidgets')

2. Configure OpenAI API

Set up the OpenAI API to enable communication with ChatGPT. Ensure you have your API key ready.

```python
# Configure OpenAI API
# Replace 'YOUR_OPENAI_API_KEY' with your actual OpenAI API key
openai.api_key = 'YOUR_OPENAI_API_KEY'

# Function to get response from ChatGPT
def get_chatgpt_response(prompt):
    try:
        response = openai.ChatCompletion.create(
            model="gpt-4",  # You can use "gpt-3.5-turbo" if preferred
            messages=[
                {"role": "system", "content": "You are ChatGPT, a large language model trained by OpenAI."},
                {"role": "user", "content": prompt}
            ],
            max_tokens=150,
            n=1,
            stop=None,
            temperature=0.7,
        )
        message = response.choices[0].message['content'].strip()
        return message
    except Exception as e:
        return f"Error: {str(e)}"

	⚠️ Important:
Security Note: It’s not recommended to hard-code API keys in notebooks, especially if you plan to share them. Consider using environment variables or Jupyter’s secret management features for enhanced security.

3. Define Helper Functions

These functions handle the extraction, formatting, saving, and visualization of the conversation data.

```python
# Function to extract conversation exchanges
def extract_conversation(conversation):
    """
    Extracts conversation exchanges between user and ChatGPT from the conversation list.
    
    :param conversation: List of conversation exchanges.
    :return: List of conversation exchanges.
    """
    print("[DEBUG] Extracting conversation exchanges...")
    exchanges = []
    for entry in conversation:
        if entry['role'] == 'user':
            user_msg = entry['content']
        elif entry['role'] == 'assistant':
            assistant_msg = entry['content']
            exchanges.append((user_msg, assistant_msg))
    print(f"[DEBUG] Number of exchanges extracted: {len(exchanges)}")
    return exchanges

# Function to format exchanges as markdown
def format_as_markdown(exchanges):
    """
    Formats extracted conversation exchanges as markdown.
    
    :param exchanges: List of conversation exchanges.
    :return: Formatted markdown string.
    """
    print("[DEBUG] Formatting exchanges as markdown...")
    md_text = ""
    for user, assistant in exchanges:
        escaped_user = markdownify.markdownify(user.strip(), escape=True)
        escaped_assistant = markdownify.markdownify(assistant.strip(), escape=True)
        md_text += f"### User:\n{escaped_user}\n\n### Assistant:\n{escaped_assistant}\n\n---\n\n"
    print(f"[DEBUG] Length of formatted markdown: {len(md_text)} characters")
    return md_text

# Function to save markdown to file
def save_to_markdown(md_text, filename):
    """
    Saves markdown text to a .md file.
    
    :param md_text: Formatted markdown text.
    :param filename: Filename to save the markdown content.
    """
    print(f"[DEBUG] Saving markdown to file: {filename}")
    with open(filename, 'w', encoding='utf-8') as f:
        f.write(md_text)
    print("[DEBUG] Markdown file saved successfully.")

# Function to generate word cloud
def generate_word_cloud(text, title, figure_size=(10, 5)):
    print(f"[DEBUG] Generating word cloud for: {title}")
    wordcloud = WordCloud(width=800, height=400, background_color='white').generate(text)
    plt.figure(figsize=figure_size)
    plt.imshow(wordcloud, interpolation='bilinear')
    plt.axis('off')
    plt.title(title)
    plt.show()
    print(f"[DEBUG] Word cloud for '{title}' generated successfully.")

# Function to plot exchange lengths
def plot_exchange_length(exchanges, figure_size=(12, 6)):
    print("[DEBUG] Plotting exchange lengths for User and Assistant...")
    user_lengths = [len(user) for user, assistant in exchanges]
    assistant_lengths = [len(assistant) for user, assistant in exchanges]
    indices = list(range(1, len(exchanges) + 1))

    print(f"[DEBUG] Number of exchanges: {len(indices)}")
    plt.figure(figsize=figure_size)
    plt.plot(indices, user_lengths, label='User Message Length', color='blue', marker='o', linestyle='-')
    plt.plot(indices, assistant_lengths, label='Assistant Message Length', color='red', marker='x', linestyle='--')
    plt.xlabel('Exchange Number')
    plt.ylabel('Message Length (Characters)')
    plt.title('Message Length per Exchange')
    plt.legend()
    plt.show()
    print("[DEBUG] Exchange length plot generated successfully.")

# Function to plot word frequency
def plot_word_frequency(exchanges, figure_size=(16, 6)):
    print("[DEBUG] Plotting word frequency for User and Assistant...")
    user_text = " ".join([user for user, assistant in exchanges])
    assistant_text = " ".join([assistant for user, assistant in exchanges])
    
    user_word_counts = Counter(re.findall(r'\w+', user_text.lower()))
    assistant_word_counts = Counter(re.findall(r'\w+', assistant_text.lower()))
    
    user_common_words = user_word_counts.most_common(10)
    assistant_common_words = assistant_word_counts.most_common(10)

    print(f"[DEBUG] Top 10 words used by User: {user_common_words}")
    print(f"[DEBUG] Top 10 words used by Assistant: {assistant_common_words}")

    user_df = pd.DataFrame(user_common_words, columns=['Word', 'Frequency'])
    assistant_df = pd.DataFrame(assistant_common_words, columns=['Word', 'Frequency'])

    fig, axes = plt.subplots(1, 2, figsize=figure_size, sharey=True)
    
    axes[0].barh(user_df['Word'], user_df['Frequency'], color='blue')
    axes[0].invert_yaxis()
    axes[0].set_title('Top 10 Words Used by User')
    
    axes[1].barh(assistant_df['Word'], assistant_df['Frequency'], color='red')
    axes[1].invert_yaxis()
    axes[1].set_title('Top 10 Words Used by Assistant')
    
    plt.tight_layout()
    plt.show()
    print("[DEBUG] Word frequency plot generated successfully.")

4. Create Interactive Chat Interface

Set up an interactive chat interface using ipywidgets where the user can send messages and receive responses from ChatGPT. Each exchange is stored in the conversation list.

```python
# Create chat interface using ipywidgets
user_input = widgets.Textarea(
    value='',
    placeholder='Type your message here...',
    description='You:',
    disabled=False,
    layout=widgets.Layout(width='100%', height='100px')
)

send_button = widgets.Button(
    description='Send',
    button_style='success',
    tooltip='Send Message',
    icon='paper-plane'
)

clear_button = widgets.Button(
    description='Clear Chat',
    button_style='danger',
    tooltip='Clear Conversation',
    icon='trash'
)

chat_output = widgets.Output()

conversation = []  # List to store conversation exchanges

def send_message(b):
    with chat_output:
        user_msg = user_input.value.strip()
        if user_msg:
            print(f"**You:** {user_msg}\n")
            conversation.append({"role": "user", "content": user_msg})
            user_input.value = ''
            # Get assistant response
            assistant_msg = get_chatgpt_response(user_msg)
            print(f"**Assistant:** {assistant_msg}\n")
            conversation.append({"role": "assistant", "content": assistant_msg})

def clear_chat(b):
    with chat_output:
        clear_output()
    global conversation
    conversation = []
    print("**Chat cleared.**\n")

send_button.on_click(send_message)
clear_button.on_click(clear_chat)

# Display the chat interface
chat_box = widgets.VBox([user_input, widgets.HBox([send_button, clear_button]), chat_output])
display(chat_box)

	Usage Instructions:
		•	Type your message in the text area and click Send to interact with ChatGPT.
	•	Clear Chat button will reset the conversation.

5. Save Conversation and Generate Visualizations

After you’ve completed your conversation, you can execute the following cells to save the conversation and generate visualizations.

```markdown
### 5.1 Save Conversation as Markdown

This cell formats the captured conversation as Markdown and saves it to a `.md` file with a timestamp.

# Function to save conversation and generate visualizations
def save_and_visualize():
    if not conversation:
        print("[WARNING] No conversation to save or visualize.")
        return
    
    # Extract exchanges
    exchanges = extract_conversation(conversation)
    
    if not exchanges:
        print("[WARNING] No exchanges found to save or visualize.")
        return
    
    # Format as markdown
    md_content = format_as_markdown(exchanges)
    
    # Define filename with timestamp
    timestamp = datetime.now().strftime('%Y%m%d-%H%M%S')
    filename = f"ChatGPT_Conversation_{timestamp}.md"
    
    # Save to markdown
    save_to_markdown(md_content, filename)
    
    # Provide download link
    display(FileLink(filename))
    print(f"**Conversation saved as:** `{filename}`")
    
    # Generate visualizations
    complete_user_text = " ".join([user for user, assistant in exchanges])
    complete_assistant_text = " ".join([assistant for user, assistant in exchanges])
    
    # Word Clouds
    generate_word_cloud(complete_user_text, "User Word Cloud", figure_size=(10, 5))
    generate_word_cloud(complete_assistant_text, "Assistant Word Cloud", figure_size=(10, 5))
    
    # Plot Message Length
    plot_exchange_length(exchanges, figure_size=(12, 6))
    
    # Plot Word Frequency
    plot_word_frequency(exchanges, figure_size=(16, 6))

# Create a button to save and visualize
save_button = widgets.Button(
    description='Save & Visualize',
    button_style='info',
    tooltip='Save Conversation and Generate Visualizations',
    icon='save'
)

def on_save_click(b):
    with chat_output:
        save_and_visualize()

save_button.on_click(on_save_click)

display(save_button)

	Usage Instructions:
		•	After completing your conversation, click the “Save & Visualize” button to save the conversation and generate the visualizations.

6. (Optional) Download Conversation as Markdown

If you prefer to manually download the saved Markdown file, use the following cell after saving.

```python
# Function to display download link for the latest markdown file
def display_download_link():
    files = [f for f in os.listdir('.') if f.startswith('ChatGPT_Conversation_') and f.endswith('.md')]
    if not files:
        print("[WARNING] No conversation markdown file found.")
        return
    latest_file = sorted(files, reverse=True)[0]
    display(FileLink(latest_file))
    print(f"**Download the conversation:** `{latest_file}`")

# Uncomment to use
# display_download_link()

7. Sample Conversation Log Format

For reference, ensure your conversation follows this format internally:

User: Hello, how are you?

Assistant: I'm good, thank you! How can I assist you today?

User: Can you help me analyze my chat history?

Assistant: Of course! Please upload your chat history file, and I'll help you analyze it.

Each exchange consists of a User: message followed by an Assistant: response.

8. Install Missing Libraries (If Necessary)

If you encounter any missing library errors, you can install them using pip. Uncomment and run the following cells as needed.

```python
# Install required libraries if not already installed
# Uncomment the lines below to install

# !pip install matplotlib
# !pip install wordcloud
# !pip install pandas
# !pip install markdownify
# !pip install ipywidgets
# !pip install openai

# Enable ipywidgets extension if not already enabled
# Uncomment the line below if widgets are not displaying correctly

# !jupyter nbextension enable --py widgetsnbextension

Conclusion

This enhanced notebook provides a comprehensive tool for interacting with ChatGPT, capturing the conversation, and visualizing various aspects of the dialogue. By following the steps above, you can easily engage in conversations, save them for future reference, and analyze the interaction dynamics through insightful visualizations.

Feel free to customize and extend the notebook further based on your specific requirements!

Quick Start Guide

	1.	Set Up API Key: Replace 'YOUR_OPENAI_API_KEY' with your actual OpenAI API key in the Configure OpenAI API section.
	2.	Interact with ChatGPT: Use the chat interface to converse with ChatGPT.
	3.	Save & Visualize: Once done, click the “Save & Visualize” button to store the conversation and generate visual insights.
	4.	Download Conversation: Use the provided download link to save your conversation locally.

Enjoy analyzing your ChatGPT conversations!